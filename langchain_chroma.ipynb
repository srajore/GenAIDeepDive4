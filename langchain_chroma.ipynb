{
 "cells": [
  {
   "cell_type": "code",
   "execution_count": 6,
   "id": "0df9e756",
   "metadata": {},
   "outputs": [],
   "source": [
    "# Imports\n",
    "from langchain.schema import Document\n",
    "from langchain_chroma import Chroma\n",
    "from langchain_ollama  import OllamaEmbeddings"
   ]
  },
  {
   "cell_type": "code",
   "execution_count": null,
   "id": "e52392dd",
   "metadata": {},
   "outputs": [],
   "source": [
    "doc1= Document(\n",
    "    page_content=\"Virat Kohli, the heartbeat of Royal Challengers Bangalore, has been a consistent performer in the IPL. Known for his aggressive batting and unmatched passion, he holds records for most runs in the tournament. His leadership, intensity, and match-winning knocks make him one of IPL’s most iconic and inspiring players.\",\n",
    "    metadata={\"team\":\"Royal Challengers Bangalore\"}\n",
    ")\n",
    "\n",
    "doc2 = Document(\n",
    "    page_content=\"MS Dhoni, the iconic captain of Chennai Super Kings, is celebrated for his finishing ability and calm leadership. His strategic brilliance and unmatched composure under pressure have guided CSK to multiple IPL titles. Known as 'Captain Cool', Dhoni remains a legend of the tournament.\",\n",
    "    metadata={\"team\": \"Chennai Super Kings\"}\n",
    ")\n",
    "\n",
    "doc3 = Document(\n",
    "    page_content=\"Rohit Sharma, the batting powerhouse and successful leader of Mumbai Indians, has redefined consistency in the IPL. His elegant stroke play, ability to anchor innings, and multiple championship wins as captain cement his place as one of the league’s greatest performers.\",\n",
    "    metadata={\"team\": \"Mumbai Indians\"}\n",
    ")\n",
    "\n",
    "doc4 = Document(\n",
    "    page_content=\"AB de Villiers, known as 'Mr. 360', mesmerized fans in the IPL with his innovative stroke-making and fearless batting for Royal Challengers Bangalore. His ability to hit anywhere on the ground and finish matches in style made him one of the most loved foreign players in IPL history.\",\n",
    "    metadata={\"team\": \"Royal Challengers Bangalore\"}\n",
    ")\n",
    "\n",
    "doc5 = Document(\n",
    "    page_content=\"Chris Gayle, the 'Universe Boss', is one of IPL’s most destructive batsmen. Representing multiple franchises, he set records for the fastest century and most sixes. His explosive batting at the top of the order transformed matches single-handedly, making him a true entertainer of the tournament.\",\n",
    "    metadata={\"team\": \"Punjab Kings\"}\n",
    ")\n",
    "\n",
    "doc6 = Document(\n",
    "    page_content=\"Lasith Malinga, the Sri Lankan speedster, is regarded as one of the greatest IPL bowlers. Playing for Mumbai Indians, his lethal yorkers and wicket-taking ability under pressure helped his team win crucial matches. He remains the highest wicket-taker for MI and a legend of the league.\",\n",
    "    metadata={\"team\": \"Mumbai Indians\"}\n",
    ")\n",
    "\n",
    "doc7 = Document(\n",
    "    page_content=\"Rashid Khan, the Afghan spin sensation, has been a match-winner in the IPL with his accurate leg-spin and wicket-taking ability. Playing for Sunrisers Hyderabad and Gujarat Titans, his economical spells and ability to dismiss top-order batsmen make him one of the most valuable bowlers in T20 cricket.\",\n",
    "    metadata={\"team\": \"Gujarat Titans\"}\n",
    ")\n",
    "\n",
    "doc8 = Document(\n",
    "    page_content=\"Sunil Narine, the mystery spinner from West Indies, played a pivotal role for Kolkata Knight Riders. His unplayable variations and economical bowling choked opposition batsmen. Later, his explosive batting as an opener added a new dimension, making him a true all-rounder in the IPL.\",\n",
    "    metadata={\"team\": \"Kolkata Knight Riders\"}\n",
    ")\n",
    "\n",
    "doc9 = Document(\n",
    "    page_content=\"Andre Russell, the explosive Jamaican all-rounder, has been a game-changer for Kolkata Knight Riders. Known for his massive six-hitting ability and impactful bowling, Russell’s all-round performances turned matches around. His presence in the middle order makes him one of IPL’s most feared players.\",\n",
    "    metadata={\"team\": \"Kolkata Knight Riders\"}\n",
    ")\n",
    "\n",
    "doc10 = Document(\n",
    "    page_content=\"Hardik Pandya, the dynamic Indian all-rounder, has been a consistent IPL performer. With his aggressive batting, handy seam bowling, and sharp fielding, he played a key role in Mumbai Indians’ success. Later, as captain of Gujarat Titans, he led the team to an IPL title in their debut season.\",\n",
    "    metadata={\"team\": \"Gujarat Titans\"}\n",
    ")\n",
    "\n",
    "doc11 = Document(\n",
    "    page_content=\"MS Dhoni’s wicketkeeping brilliance and sharp cricketing mind have been crucial to Chennai Super Kings’ IPL success. Beyond his captaincy, his lightning-fast stumpings and smart field placements changed the course of many games. His presence behind the stumps made CSK one of the most tactically sound teams in the tournament.\",\n",
    "    metadata={\"team\": \"Chennai Super Kings\"}\n",
    ")"
   ]
  },
  {
   "cell_type": "code",
   "execution_count": null,
   "id": "7369566d",
   "metadata": {},
   "outputs": [],
   "source": [
    "docs = [doc1, doc2, doc3, doc4, doc5, doc6, doc7, doc8, doc9, doc10, doc11]"
   ]
  },
  {
   "cell_type": "code",
   "execution_count": null,
   "id": "f8bd8434",
   "metadata": {},
   "outputs": [],
   "source": [
    "vector_store = Chroma(\n",
    "    embedding_function=OllamaEmbeddings(model=\"granite-embedding:latest\"),\n",
    "    persist_directory=\"my_chroma_db\",\n",
    "    collection_name=\"my_collection\", \n",
    ")"
   ]
  },
  {
   "cell_type": "code",
   "execution_count": 8,
   "id": "74fe8a3d",
   "metadata": {},
   "outputs": [
    {
     "data": {
      "text/plain": [
       "['2bc8f2d5-b62c-4345-ac59-ac8ee94f7e2a',\n",
       " '71ffd4c8-8a3f-4cc2-9fa9-92b7ff954166',\n",
       " 'fc550e5d-f4e7-42db-a550-b5a5ce513810',\n",
       " '5970bf22-4929-483d-9ef7-d74a52aba270',\n",
       " '6e7367e2-bc54-4114-820c-56d847bb033e',\n",
       " '1677650b-e864-4a31-aa27-0da9ba54aec7',\n",
       " '9b187580-9395-4300-8ee0-6f1719f1d42c',\n",
       " '0aa0b96c-abb0-4e74-a837-3c875e729c14',\n",
       " '41c8305a-2ed6-4748-b204-8e4d0380e420',\n",
       " 'ac953808-359a-4400-8fc0-c522346114fb']"
      ]
     },
     "execution_count": 8,
     "metadata": {},
     "output_type": "execute_result"
    }
   ],
   "source": [
    "vector_store.add_documents(docs)"
   ]
  },
  {
   "cell_type": "code",
   "execution_count": null,
   "id": "6f3623a4",
   "metadata": {},
   "outputs": [
    {
     "data": {
      "text/plain": [
       "[Document(id='71ffd4c8-8a3f-4cc2-9fa9-92b7ff954166', metadata={'team': 'Chennai Super Kings'}, page_content=\"MS Dhoni, the iconic captain of Chennai Super Kings, is celebrated for his finishing ability and calm leadership. His strategic brilliance and unmatched composure under pressure have guided CSK to multiple IPL titles. Known as 'Captain Cool', Dhoni remains a legend of the tournament.\")]"
      ]
     },
     "execution_count": 15,
     "metadata": {},
     "output_type": "execute_result"
    }
   ],
   "source": [
    "vector_store.similarity_search(\n",
    "    query=\"could you talk about MS Dhoni\",\n",
    "    k=1\n",
    ")"
   ]
  },
  {
   "cell_type": "code",
   "execution_count": 16,
   "id": "f0b0fd90",
   "metadata": {},
   "outputs": [
    {
     "data": {
      "text/plain": [
       "[(Document(id='71ffd4c8-8a3f-4cc2-9fa9-92b7ff954166', metadata={'team': 'Chennai Super Kings'}, page_content=\"MS Dhoni, the iconic captain of Chennai Super Kings, is celebrated for his finishing ability and calm leadership. His strategic brilliance and unmatched composure under pressure have guided CSK to multiple IPL titles. Known as 'Captain Cool', Dhoni remains a legend of the tournament.\"),\n",
       "  0.3790333569049835),\n",
       " (Document(id='fc550e5d-f4e7-42db-a550-b5a5ce513810', metadata={'team': 'Mumbai Indians'}, page_content='Rohit Sharma, the batting powerhouse and successful leader of Mumbai Indians, has redefined consistency in the IPL. His elegant stroke play, ability to anchor innings, and multiple championship wins as captain cement his place as one of the league’s greatest performers.'),\n",
       "  0.6375629901885986)]"
      ]
     },
     "execution_count": 16,
     "metadata": {},
     "output_type": "execute_result"
    }
   ],
   "source": [
    "vector_store.similarity_search_with_score(\n",
    "    query=\"could you talk about MS Dhoni\",\n",
    "    k=2\n",
    ")"
   ]
  }
 ],
 "metadata": {
  "kernelspec": {
   "display_name": "myvenv",
   "language": "python",
   "name": "python3"
  },
  "language_info": {
   "codemirror_mode": {
    "name": "ipython",
    "version": 3
   },
   "file_extension": ".py",
   "mimetype": "text/x-python",
   "name": "python",
   "nbconvert_exporter": "python",
   "pygments_lexer": "ipython3",
   "version": "3.10.11"
  }
 },
 "nbformat": 4,
 "nbformat_minor": 5
}
