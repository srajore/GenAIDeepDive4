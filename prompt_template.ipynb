{
 "cells": [
  {
   "cell_type": "code",
   "execution_count": 19,
   "id": "76f2a0fa",
   "metadata": {},
   "outputs": [],
   "source": [
    "from langchain_core.prompts import PromptTemplate\n",
    "from langchain_ollama import ChatOllama"
   ]
  },
  {
   "cell_type": "code",
   "execution_count": 20,
   "id": "4871d0c9",
   "metadata": {},
   "outputs": [],
   "source": [
    "model = ChatOllama(model=\"llama3.2:latest\")"
   ]
  },
  {
   "cell_type": "code",
   "execution_count": null,
   "id": "16ffe0ba",
   "metadata": {},
   "outputs": [],
   "source": [
    "prompt = PromptTemplate.from_template(\" Tell me the key achivements of {name} in 4 bulleted points.\")"
   ]
  },
  {
   "cell_type": "code",
   "execution_count": 22,
   "id": "88943766",
   "metadata": {},
   "outputs": [],
   "source": [
    "#chain = prompt | model \n"
   ]
  },
  {
   "cell_type": "code",
   "execution_count": null,
   "id": "d5996208",
   "metadata": {},
   "outputs": [],
   "source": [
    "# response = chain.invoke({\"name\":\"Rohit Sharma\"})\n",
    "response = model.invoke(prompt.format(name=\"Sharad Rajore\"))"
   ]
  },
  {
   "cell_type": "code",
   "execution_count": 24,
   "id": "31bffd73",
   "metadata": {},
   "outputs": [
    {
     "name": "stdout",
     "output_type": "stream",
     "text": [
      "I couldn't find any information on Sharad Rajore, including his achievements as a member of the Technical Training Team at Zensar Technology. It's possible that he is not a public figure or his achievements are not publicly available.\n",
      "\n",
      "However, I can suggest some alternatives to find more information about him:\n",
      "\n",
      "1. Check the official website of Zensar Technology to see if they have any information on their employees or team members.\n",
      "2. Search for his name on LinkedIn or other professional networking platforms to see if he has a profile and any achievements listed there.\n",
      "3. Reach out to Zensar Technology directly through their contact page or email address and ask if they can provide more information about Sharad Rajore's achievements.\n",
      "\n",
      "If you could provide more context or details about Sharad Rajore, I may be able to help you find more information about him.\n"
     ]
    }
   ],
   "source": [
    "print(response.content)"
   ]
  },
  {
   "cell_type": "code",
   "execution_count": null,
   "id": "2e31e3ca",
   "metadata": {},
   "outputs": [],
   "source": []
  }
 ],
 "metadata": {
  "kernelspec": {
   "display_name": "myvenv",
   "language": "python",
   "name": "python3"
  },
  "language_info": {
   "codemirror_mode": {
    "name": "ipython",
    "version": 3
   },
   "file_extension": ".py",
   "mimetype": "text/x-python",
   "name": "python",
   "nbconvert_exporter": "python",
   "pygments_lexer": "ipython3",
   "version": "3.10.11"
  }
 },
 "nbformat": 4,
 "nbformat_minor": 5
}
